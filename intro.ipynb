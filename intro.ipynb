{
  "nbformat": 4,
  "nbformat_minor": 0,
  "metadata": {
    "colab": {
      "provenance": [],
      "authorship_tag": "ABX9TyNZCTa2ZqL0tDSFmvRhS+Cz",
      "include_colab_link": true
    },
    "kernelspec": {
      "name": "python3",
      "display_name": "Python 3"
    },
    "language_info": {
      "name": "python"
    }
  },
  "cells": [
    {
      "cell_type": "markdown",
      "metadata": {
        "id": "view-in-github",
        "colab_type": "text"
      },
      "source": [
        "<a href=\"https://colab.research.google.com/github/tomeuff/ConsoleApplication1/blob/master/intro.ipynb\" target=\"_parent\"><img src=\"https://colab.research.google.com/assets/colab-badge.svg\" alt=\"Open In Colab\"/></a>"
      ]
    },
    {
      "cell_type": "code",
      "execution_count": null,
      "metadata": {
        "id": "6dlOHSlVx0ef"
      },
      "outputs": [],
      "source": [
        "print('xd')"
      ]
    },
    {
      "cell_type": "markdown",
      "source": [
        "# Operacje na listach"
      ],
      "metadata": {
        "id": "t6E7V6QxzNbx"
      }
    },
    {
      "cell_type": "code",
      "source": [
        "lista = [3, 4, -1, 2]\n",
        "lista.sort()\n",
        "lista"
      ],
      "metadata": {
        "colab": {
          "base_uri": "https://localhost:8080/"
        },
        "id": "DY7J1Jg1zTNH",
        "outputId": "158b3e39-7550-4a95-ee7b-e2239291328c"
      },
      "execution_count": null,
      "outputs": [
        {
          "output_type": "execute_result",
          "data": {
            "text/plain": [
              "[-1, 2, 3, 4]"
            ]
          },
          "metadata": {},
          "execution_count": 3
        }
      ]
    }
  ]
}